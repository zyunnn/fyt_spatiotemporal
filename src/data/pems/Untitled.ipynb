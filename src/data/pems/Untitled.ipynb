{
 "cells": [
  {
   "cell_type": "code",
   "execution_count": 9,
   "metadata": {},
   "outputs": [],
   "source": [
    "import pandas as pd\n",
    "import numpy as np\n",
    "import tensorflow as tf\n",
    "import keras.backend as K\n",
    "import keras\n",
    "from keras import optimizers\n",
    "# from keras.engine.topology import Layer\n",
    "from keras.layers import Activation, Lambda, Conv1D, SpatialDropout1D, Dense, BatchNormalization\n",
    "from keras.models import Input, Model\n",
    "# import horovod.tensorflow.keras as hvd\n",
    "\n",
    "from sklearn.metrics import mean_squared_error\n",
    "from sklearn.model_selection import train_test_split"
   ]
  },
  {
   "cell_type": "code",
   "execution_count": 18,
   "metadata": {},
   "outputs": [],
   "source": [
    "def gen_seq(data, feat_len, pre_len):\n",
    "    x, y = list(), list()\n",
    "    for i in range(data.shape[0]-(feat_len+pre_len)+1):\n",
    "        for j in range(data.shape[1]):\n",
    "            x.append(data.iloc[i:i+feat_len,j])\n",
    "            y.append(data.iloc[i+feat_len,j])\n",
    "    return np.asarray(x), np.asarray(y)"
   ]
  },
  {
   "cell_type": "code",
   "execution_count": 20,
   "metadata": {},
   "outputs": [],
   "source": [
    "# print(x.shape, y.shape)\n",
    "# %timeit x, y = gen_seq(df2, 4, 1)\n",
    "# X_train, X_test, y_train, y_test = train_test_split(x, y, test_size=0.2, \n",
    "#                                                     random_state=42)"
   ]
  },
  {
   "cell_type": "code",
   "execution_count": 12,
   "metadata": {},
   "outputs": [
    {
     "data": {
      "text/plain": [
       "(12672, 228)"
      ]
     },
     "execution_count": 12,
     "metadata": {},
     "output_type": "execute_result"
    }
   ],
   "source": [
    "# df2 = pd.read_csv('./PeMSD7_V_228.csv', header=None)\n",
    "df2.shape"
   ]
  },
  {
   "cell_type": "code",
   "execution_count": null,
   "metadata": {},
   "outputs": [],
   "source": [
    "class TCN:\n",
    "    # Compile model\n",
    "    def build(self):\n",
    "        batch_size, timesteps, input_dim = None, 4, 1\n",
    "\n",
    "        i = Input(batch_shape=(batch_size, timesteps, input_dim))\n",
    "        o = tcn_layer(nb_filters=128,\n",
    "                      kernel_size=4,\n",
    "                      dilations=(1,2,4,8,16,32,64),\n",
    "                      padding='causal',\n",
    "                      dropout_rate=0.01,\n",
    "                      return_sequences=False,\n",
    "                      kernel_initializer='he_normal',\n",
    "                      use_batch_norm=True)(i)\n",
    "        o = Dense(1)(o)\n",
    "\n",
    "        self.m = Model(inputs=[i], outputs=[o])\n",
    "        return self.m\n",
    "#         self.m.compile(optimizer='adam',loss='hinge', metrics=['accuracy',precision_threshold(0),recall_threshold(0)])\n",
    "\n",
    "\n",
    "    # Helper function\n",
    "    # The output should be in the form of 1 and -1 given the hinge loss function\n",
    "    def reshape(self, y_train):\n",
    "        for i in range(y_train.shape[0]):\n",
    "            if y_train[i] == 0:\n",
    "                y_train[i] = -1\n",
    "        return y_train\n",
    "\n",
    "    # Train model\n",
    "    def train(self, X_train, y_train):\n",
    "        self.num_epochs = 1 \n",
    "        y_train = self.reshape(y_train)\n",
    "\n",
    "        # Directory where the checkpoints will be saved\n",
    "        checkpoint_dir = '/Users/zhiyun/Desktop/Fall19-20/TEMG4000/startup_prediction/src/model'\n",
    "        checkpoint_prefix = os.path.join(checkpoint_dir, \"ckpt_1\")\n",
    "\n",
    "        checkpoint_callback=tf.keras.callbacks.ModelCheckpoint(filepath=checkpoint_prefix,\n",
    "                                                               save_weights_only=True,\n",
    "                                                               save_freq=1024)\n",
    "\n",
    "        self.history = self.m.fit(X_train, y_train, epochs=self.num_epochs, validation_split=0.25, callbacks=[checkpoint_callback])\n",
    "\n",
    "    # Predict test data\n",
    "    def predict(self, X_test):\n",
    "        return self.m.predict(X_test)\n",
    "    \n",
    "    # Evaluate model performance with metrics\n",
    "    def evaluate(self, y_pred, y_test):\n",
    "        y_pred_rounded = np.clip(y_pred, 0, 1)\n",
    "        for i in range(y_pred_rounded.shape[0]):\n",
    "            if y_pred_rounded[i] > 0:\n",
    "                y_pred_rounded[i] = 1\n",
    "\n",
    "        precision, recall, f1, _ = precision_recall_fscore_support(y_test, y_pred_rounded)                                                                                                                                                                                                          \n",
    "        print('Precision:', precision.mean())\n",
    "        print('Recall:', recall.mean())\n",
    "        print('f1-score:', f1.mean())\n",
    "        \n",
    "        print('Classification report:')\n",
    "        print(classification_report(y_test, y_pred_rounded))\n",
    "\n",
    "        print('Confusion matrix:')\n",
    "        print(confusion_matrix(y_test, y_pred_rounded))\n",
    "\n",
    "    # Save model\n",
    "    def save_model(self):\n",
    "        self.m.save('src/model/tcn.hdf5')"
   ]
  }
 ],
 "metadata": {
  "kernelspec": {
   "display_name": ".venv",
   "language": "python",
   "name": ".venv"
  },
  "language_info": {
   "codemirror_mode": {
    "name": "ipython",
    "version": 3
   },
   "file_extension": ".py",
   "mimetype": "text/x-python",
   "name": "python",
   "nbconvert_exporter": "python",
   "pygments_lexer": "ipython3",
   "version": "3.7.3"
  }
 },
 "nbformat": 4,
 "nbformat_minor": 2
}
